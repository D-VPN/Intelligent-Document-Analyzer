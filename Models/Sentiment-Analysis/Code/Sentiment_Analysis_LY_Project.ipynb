{
  "nbformat": 4,
  "nbformat_minor": 0,
  "metadata": {
    "colab": {
      "name": "Sentiment Analysis LY Project.ipynb",
      "provenance": [],
      "collapsed_sections": []
    },
    "kernelspec": {
      "name": "python3",
      "display_name": "Python 3"
    },
    "language_info": {
      "name": "python"
    }
  },
  "cells": [
    {
      "cell_type": "code",
      "execution_count": 39,
      "metadata": {
        "id": "UEM3Lk5-Qupr"
      },
      "outputs": [],
      "source": [
        "import numpy as np\n",
        "\n",
        "import tensorflow_datasets as tfds\n",
        "import tensorflow as tf\n",
        "import matplotlib.pyplot as plt"
      ]
    },
    {
      "cell_type": "code",
      "source": [
        "dataset, info = tfds.load('imdb_reviews', with_info=True,\n",
        "                          as_supervised=True)"
      ],
      "metadata": {
        "id": "MVEJC312ROtG",
        "colab": {
          "base_uri": "https://localhost:8080/"
        },
        "outputId": "1d537b07-5c9e-4c34-ebba-d75dfd17c802"
      },
      "execution_count": 5,
      "outputs": [
        {
          "output_type": "stream",
          "name": "stdout",
          "text": [
            "\u001b[1mDownloading and preparing dataset imdb_reviews/plain_text/1.0.0 (download: 80.23 MiB, generated: Unknown size, total: 80.23 MiB) to /root/tensorflow_datasets/imdb_reviews/plain_text/1.0.0...\u001b[0m\n",
            "Shuffling and writing examples to /root/tensorflow_datasets/imdb_reviews/plain_text/1.0.0.incomplete714R0G/imdb_reviews-train.tfrecord\n",
            "Shuffling and writing examples to /root/tensorflow_datasets/imdb_reviews/plain_text/1.0.0.incomplete714R0G/imdb_reviews-test.tfrecord\n",
            "Shuffling and writing examples to /root/tensorflow_datasets/imdb_reviews/plain_text/1.0.0.incomplete714R0G/imdb_reviews-unsupervised.tfrecord\n"
          ]
        },
        {
          "output_type": "stream",
          "name": "stderr",
          "text": [
            "WARNING:absl:Dataset is using deprecated text encoder API which will be removed soon. Please use the plain_text version of the dataset and migrate to `tensorflow_text`.\n"
          ]
        },
        {
          "output_type": "stream",
          "name": "stdout",
          "text": [
            "\u001b[1mDataset imdb_reviews downloaded and prepared to /root/tensorflow_datasets/imdb_reviews/plain_text/1.0.0. Subsequent calls will reuse this data.\u001b[0m\n"
          ]
        }
      ]
    },
    {
      "cell_type": "code",
      "source": [
        "train_dataset, test_dataset = dataset['train'], dataset['test']\n",
        "\n",
        "train_dataset.element_spec"
      ],
      "metadata": {
        "colab": {
          "base_uri": "https://localhost:8080/"
        },
        "id": "hTg8PuWFSdFq",
        "outputId": "035828bb-e1d5-4789-826b-5157e771210f"
      },
      "execution_count": 8,
      "outputs": [
        {
          "output_type": "execute_result",
          "data": {
            "text/plain": [
              "(TensorSpec(shape=(), dtype=tf.string, name=None),\n",
              " TensorSpec(shape=(), dtype=tf.int64, name=None))"
            ]
          },
          "metadata": {},
          "execution_count": 8
        }
      ]
    },
    {
      "cell_type": "code",
      "source": [
        "BUFFER_SIZE = 10000\n",
        "BATCH_SIZE = 64"
      ],
      "metadata": {
        "id": "HGah40xySxTE"
      },
      "execution_count": 10,
      "outputs": []
    },
    {
      "cell_type": "code",
      "source": [
        "train_dataset = train_dataset.shuffle(BUFFER_SIZE).batch(BATCH_SIZE).prefetch(tf.data.AUTOTUNE)\n",
        "test_dataset = test_dataset.batch(BATCH_SIZE).prefetch(tf.data.AUTOTUNE)"
      ],
      "metadata": {
        "id": "egMyJHdCTcJD"
      },
      "execution_count": 11,
      "outputs": []
    },
    {
      "cell_type": "code",
      "source": [
        "for example, label in train_dataset.take(1):\n",
        "  print('texts: ', example.numpy()[:3])\n",
        "  print()\n",
        "  print('labels: ', label.numpy()[:3])"
      ],
      "metadata": {
        "colab": {
          "base_uri": "https://localhost:8080/"
        },
        "id": "vMLV3eFLTuJp",
        "outputId": "cf6db797-4fac-4a99-cb15-402b3efba71c"
      },
      "execution_count": 12,
      "outputs": [
        {
          "output_type": "stream",
          "name": "stdout",
          "text": [
            "texts:  [b'This was allocated to the fans as the \"winner takes all\" match occurred between two separate \"companies\" (the World Wrestling Federation and the \"Alliance\": an amalgamation of former WCW and ECW superstars. Because the final match to duduce the superior company was a tag-team match, the wrestlers were confined to tossing opponents from each side of the ring to another; each wrestler concludes that in order to debiliate their opponents and to intensify the match, interfernce is necessary. Each wrestler merely pummels an opponent with punches, executes a special move, and tags in a partner. The storyline had previously been tarnished by the subterfuge of Vince that a member of the Allance would be fradulent and join the WWF. It was obvious, with that statement, that the WWF would prevail. Overall: very innovative storyline but poor execution, which is not the scarcity of the wrestlers because the match format is tag-team. The remaining matches are just revolting:<br /><br />Edge versus Test: potent \"big boot\" by Test, but this did not display the true talents of both stars<br /><br />Al Snow Versus Christian: good match but superflous to the pay-per-view<br /><br />Taji versus William Regal: the worst match of the night<br /><br />Immunity Battle Royal: This was an outstandingly fun match to watch, but because the main stars of both companies were involved in the main event, only a wrestler who characteristically appears on \"Heat\" and is probably a WCW light-heavyweight reject (i.e. the Hurricane who is merely hired as an entertainer)<br /><br />Hardy Boyz Versus Dudley Boyz: The best match of the night: Jeff Hardy executed a \"Swanton Bomb\" from the summit of a cage and through a wooden table and Matt was wedged into the cage, which appeared to be extremely painful.<br /><br />Because Stone Cold was the WWF champion, Rob Van Dam was the Hardcore Champion, and Kurt Angle was a \"mole\" in the alliance, all fundamental stars in the main event on the faction of \"the Alliance\" were granted work after the match\\'s outcome, except for Booker T., who recently attacked a wrestler on \"Raw\" and will inevitably be given work. Shane McMahon will return to television somehow, and everyone desired to witness the downfall and demise of \"the Alliance\" to see Stone Cold out of work. The WWF has done much better. A match in which all tiltes were brought to one faction would have been better, and what ever became of Casket and Iron Man matches?'\n",
            " b\"the fact that the movie is predictable is not a problem. this movie is like a beautiful painting to be enjoyed. the museum scene is like a nice music video. the apres sex scene is an all too familiar scene in all of our adult lives. but the movie would not hold any interest for me without keith gordon. keith gordon is maybe one of the most underrated actors of our time. almost everything i know about acting came from studying mostly his eyes. he had the most compelling face. his character possesses the qualities i look in a guy, sensitivity and dedication. keith gordon is gorgeous. BTW, i kinda wish he'd shave his beard now as his lips, jawline and adam's apple were his prettiest set next to his eyes.\"\n",
            " b\"The story by Norman Maclean is a masterwork; Redford's film is a mediocrity. He adds banal scenes of the Maclean brothers going over a falls and of them double-dating in a seedy bar that were not even hinted at in the story. The cipher, Brad Pitt, trying to play the charismatic Paul Maclean, a genius outdoors, proves either risible or depressing, depending on what the original story meant to you. Some of the fly casting scenes are beautiful. Also, Tom Skerritt as the father and Craig Sheffer as Norman are strong and masculine, as men were once expected to be. None of the women make an impression in the film, which is regrettable, because Maclean loved the women in his story and made this clear, even poetic.\"]\n",
            "\n",
            "labels:  [0 1 0]\n"
          ]
        }
      ]
    },
    {
      "cell_type": "code",
      "source": [
        "VOCAB_SIZE = 1000\n",
        "encoder = tf.keras.layers.TextVectorization(\n",
        "    max_tokens=VOCAB_SIZE)\n",
        "encoder.adapt(train_dataset.map(lambda text, label: text))"
      ],
      "metadata": {
        "id": "DWWTcdWaUaGq"
      },
      "execution_count": 13,
      "outputs": []
    },
    {
      "cell_type": "code",
      "source": [
        "vocab = np.array(encoder.get_vocabulary())\n",
        "vocab[:20]"
      ],
      "metadata": {
        "colab": {
          "base_uri": "https://localhost:8080/"
        },
        "id": "8ScYvVYCUrI9",
        "outputId": "a5a02f82-e639-4676-8df7-2d02fd605da5"
      },
      "execution_count": 14,
      "outputs": [
        {
          "output_type": "execute_result",
          "data": {
            "text/plain": [
              "array(['', '[UNK]', 'the', 'and', 'a', 'of', 'to', 'is', 'in', 'it', 'i',\n",
              "       'this', 'that', 'br', 'was', 'as', 'for', 'with', 'movie', 'but'],\n",
              "      dtype='<U14')"
            ]
          },
          "metadata": {},
          "execution_count": 14
        }
      ]
    },
    {
      "cell_type": "code",
      "source": [
        "print(len(vocab))"
      ],
      "metadata": {
        "colab": {
          "base_uri": "https://localhost:8080/"
        },
        "id": "Ifv6sAU0UxfA",
        "outputId": "0a74a0ff-e0c3-4b03-8102-a1eb56cbc78c"
      },
      "execution_count": 16,
      "outputs": [
        {
          "output_type": "stream",
          "name": "stdout",
          "text": [
            "1000\n"
          ]
        }
      ]
    },
    {
      "cell_type": "code",
      "source": [
        "example[:3]"
      ],
      "metadata": {
        "colab": {
          "base_uri": "https://localhost:8080/"
        },
        "id": "ke6VODRtVSDk",
        "outputId": "6a1ed26d-52e7-415d-fe2f-488c976e79b7"
      },
      "execution_count": 20,
      "outputs": [
        {
          "output_type": "execute_result",
          "data": {
            "text/plain": [
              "<tf.Tensor: shape=(3,), dtype=string, numpy=\n",
              "array([b'This was allocated to the fans as the \"winner takes all\" match occurred between two separate \"companies\" (the World Wrestling Federation and the \"Alliance\": an amalgamation of former WCW and ECW superstars. Because the final match to duduce the superior company was a tag-team match, the wrestlers were confined to tossing opponents from each side of the ring to another; each wrestler concludes that in order to debiliate their opponents and to intensify the match, interfernce is necessary. Each wrestler merely pummels an opponent with punches, executes a special move, and tags in a partner. The storyline had previously been tarnished by the subterfuge of Vince that a member of the Allance would be fradulent and join the WWF. It was obvious, with that statement, that the WWF would prevail. Overall: very innovative storyline but poor execution, which is not the scarcity of the wrestlers because the match format is tag-team. The remaining matches are just revolting:<br /><br />Edge versus Test: potent \"big boot\" by Test, but this did not display the true talents of both stars<br /><br />Al Snow Versus Christian: good match but superflous to the pay-per-view<br /><br />Taji versus William Regal: the worst match of the night<br /><br />Immunity Battle Royal: This was an outstandingly fun match to watch, but because the main stars of both companies were involved in the main event, only a wrestler who characteristically appears on \"Heat\" and is probably a WCW light-heavyweight reject (i.e. the Hurricane who is merely hired as an entertainer)<br /><br />Hardy Boyz Versus Dudley Boyz: The best match of the night: Jeff Hardy executed a \"Swanton Bomb\" from the summit of a cage and through a wooden table and Matt was wedged into the cage, which appeared to be extremely painful.<br /><br />Because Stone Cold was the WWF champion, Rob Van Dam was the Hardcore Champion, and Kurt Angle was a \"mole\" in the alliance, all fundamental stars in the main event on the faction of \"the Alliance\" were granted work after the match\\'s outcome, except for Booker T., who recently attacked a wrestler on \"Raw\" and will inevitably be given work. Shane McMahon will return to television somehow, and everyone desired to witness the downfall and demise of \"the Alliance\" to see Stone Cold out of work. The WWF has done much better. A match in which all tiltes were brought to one faction would have been better, and what ever became of Casket and Iron Man matches?',\n",
              "       b\"the fact that the movie is predictable is not a problem. this movie is like a beautiful painting to be enjoyed. the museum scene is like a nice music video. the apres sex scene is an all too familiar scene in all of our adult lives. but the movie would not hold any interest for me without keith gordon. keith gordon is maybe one of the most underrated actors of our time. almost everything i know about acting came from studying mostly his eyes. he had the most compelling face. his character possesses the qualities i look in a guy, sensitivity and dedication. keith gordon is gorgeous. BTW, i kinda wish he'd shave his beard now as his lips, jawline and adam's apple were his prettiest set next to his eyes.\",\n",
              "       b\"The story by Norman Maclean is a masterwork; Redford's film is a mediocrity. He adds banal scenes of the Maclean brothers going over a falls and of them double-dating in a seedy bar that were not even hinted at in the story. The cipher, Brad Pitt, trying to play the charismatic Paul Maclean, a genius outdoors, proves either risible or depressing, depending on what the original story meant to you. Some of the fly casting scenes are beautiful. Also, Tom Skerritt as the father and Craig Sheffer as Norman are strong and masculine, as men were once expected to be. None of the women make an impression in the film, which is regrettable, because Maclean loved the women in his story and made this clear, even poetic.\"],\n",
              "      dtype=object)>"
            ]
          },
          "metadata": {},
          "execution_count": 20
        }
      ]
    },
    {
      "cell_type": "code",
      "source": [
        "encoded_example = encoder(example)[:3].numpy()\n",
        "encoded_example"
      ],
      "metadata": {
        "colab": {
          "base_uri": "https://localhost:8080/"
        },
        "id": "B04A2KMdU2zH",
        "outputId": "fd3105a8-2bec-4071-8ed7-cba9fc08b1f5"
      },
      "execution_count": 23,
      "outputs": [
        {
          "output_type": "execute_result",
          "data": {
            "text/plain": [
              "array([[ 11,  14,   1, ...,   0,   0,   0],\n",
              "       [  2, 185,  12, ...,   0,   0,   0],\n",
              "       [  2,  64,  33, ...,   0,   0,   0]])"
            ]
          },
          "metadata": {},
          "execution_count": 23
        }
      ]
    },
    {
      "cell_type": "code",
      "source": [
        "for n in range(3):\n",
        "  print(\"Original: \", example[n].numpy())\n",
        "  print(\"Round-trip: \", \" \".join(vocab[encoded_example[n]]))\n",
        "  print()"
      ],
      "metadata": {
        "colab": {
          "base_uri": "https://localhost:8080/"
        },
        "id": "_hEKCSijU8jd",
        "outputId": "644539c9-5783-4c48-f0cc-3701b08b2be5"
      },
      "execution_count": 21,
      "outputs": [
        {
          "output_type": "stream",
          "name": "stdout",
          "text": [
            "Original:  b'This was allocated to the fans as the \"winner takes all\" match occurred between two separate \"companies\" (the World Wrestling Federation and the \"Alliance\": an amalgamation of former WCW and ECW superstars. Because the final match to duduce the superior company was a tag-team match, the wrestlers were confined to tossing opponents from each side of the ring to another; each wrestler concludes that in order to debiliate their opponents and to intensify the match, interfernce is necessary. Each wrestler merely pummels an opponent with punches, executes a special move, and tags in a partner. The storyline had previously been tarnished by the subterfuge of Vince that a member of the Allance would be fradulent and join the WWF. It was obvious, with that statement, that the WWF would prevail. Overall: very innovative storyline but poor execution, which is not the scarcity of the wrestlers because the match format is tag-team. The remaining matches are just revolting:<br /><br />Edge versus Test: potent \"big boot\" by Test, but this did not display the true talents of both stars<br /><br />Al Snow Versus Christian: good match but superflous to the pay-per-view<br /><br />Taji versus William Regal: the worst match of the night<br /><br />Immunity Battle Royal: This was an outstandingly fun match to watch, but because the main stars of both companies were involved in the main event, only a wrestler who characteristically appears on \"Heat\" and is probably a WCW light-heavyweight reject (i.e. the Hurricane who is merely hired as an entertainer)<br /><br />Hardy Boyz Versus Dudley Boyz: The best match of the night: Jeff Hardy executed a \"Swanton Bomb\" from the summit of a cage and through a wooden table and Matt was wedged into the cage, which appeared to be extremely painful.<br /><br />Because Stone Cold was the WWF champion, Rob Van Dam was the Hardcore Champion, and Kurt Angle was a \"mole\" in the alliance, all fundamental stars in the main event on the faction of \"the Alliance\" were granted work after the match\\'s outcome, except for Booker T., who recently attacked a wrestler on \"Raw\" and will inevitably be given work. Shane McMahon will return to television somehow, and everyone desired to witness the downfall and demise of \"the Alliance\" to see Stone Cold out of work. The WWF has done much better. A match in which all tiltes were brought to one faction would have been better, and what ever became of Casket and Iron Man matches?'\n",
            "Round-trip:  this was [UNK] to the fans as the [UNK] takes all [UNK] [UNK] between two [UNK] [UNK] the world [UNK] [UNK] and the [UNK] an [UNK] of [UNK] [UNK] and [UNK] [UNK] because the final [UNK] to [UNK] the [UNK] [UNK] was a [UNK] [UNK] the [UNK] were [UNK] to [UNK] [UNK] from each side of the [UNK] to another each [UNK] [UNK] that in order to [UNK] their [UNK] and to [UNK] the [UNK] [UNK] is [UNK] each [UNK] [UNK] [UNK] an [UNK] with [UNK] [UNK] a special move and [UNK] in a [UNK] the storyline had [UNK] been [UNK] by the [UNK] of [UNK] that a [UNK] of the [UNK] would be [UNK] and [UNK] the [UNK] it was obvious with that [UNK] that the [UNK] would [UNK] overall very [UNK] storyline but poor [UNK] which is not the [UNK] of the [UNK] because the [UNK] [UNK] is [UNK] the [UNK] [UNK] are just [UNK] br [UNK] [UNK] [UNK] [UNK] big [UNK] by [UNK] but this did not [UNK] the true [UNK] of both [UNK] br [UNK] [UNK] [UNK] [UNK] good [UNK] but [UNK] to the [UNK] br [UNK] [UNK] [UNK] [UNK] the worst [UNK] of the [UNK] br [UNK] battle [UNK] this was an [UNK] fun [UNK] to watch but because the main stars of both [UNK] were involved in the main [UNK] only a [UNK] who [UNK] appears on [UNK] and is probably a [UNK] [UNK] [UNK] [UNK] the [UNK] who is [UNK] [UNK] as an [UNK] br [UNK] [UNK] [UNK] [UNK] [UNK] the best [UNK] of the night [UNK] [UNK] [UNK] a [UNK] [UNK] from the [UNK] of a [UNK] and through a [UNK] [UNK] and [UNK] was [UNK] into the [UNK] which [UNK] to be extremely [UNK] br because [UNK] [UNK] was the [UNK] [UNK] [UNK] [UNK] [UNK] was the [UNK] [UNK] and [UNK] [UNK] was a [UNK] in the [UNK] all [UNK] stars in the main [UNK] on the [UNK] of the [UNK] were [UNK] work after the [UNK] [UNK] except for [UNK] [UNK] who [UNK] [UNK] a [UNK] on [UNK] and will [UNK] be given work [UNK] [UNK] will return to television somehow and everyone [UNK] to [UNK] the [UNK] and [UNK] of the [UNK] to see [UNK] [UNK] out of work the [UNK] has done much better a [UNK] in which all [UNK] were brought to one [UNK] would have been better and what ever became of [UNK] and [UNK] man [UNK]                                                                                                                                                                                                                                                                                                                                                                                                                                     \n",
            "\n",
            "Original:  b\"the fact that the movie is predictable is not a problem. this movie is like a beautiful painting to be enjoyed. the museum scene is like a nice music video. the apres sex scene is an all too familiar scene in all of our adult lives. but the movie would not hold any interest for me without keith gordon. keith gordon is maybe one of the most underrated actors of our time. almost everything i know about acting came from studying mostly his eyes. he had the most compelling face. his character possesses the qualities i look in a guy, sensitivity and dedication. keith gordon is gorgeous. BTW, i kinda wish he'd shave his beard now as his lips, jawline and adam's apple were his prettiest set next to his eyes.\"\n",
            "Round-trip:  the fact that the movie is predictable is not a problem this movie is like a beautiful [UNK] to be enjoyed the [UNK] scene is like a nice music video the [UNK] sex scene is an all too [UNK] scene in all of our [UNK] lives but the movie would not [UNK] any interest for me without [UNK] [UNK] [UNK] [UNK] is maybe one of the most [UNK] actors of our time almost everything i know about acting came from [UNK] mostly his eyes he had the most [UNK] face his character [UNK] the [UNK] i look in a guy [UNK] and [UNK] [UNK] [UNK] is [UNK] [UNK] i [UNK] wish [UNK] [UNK] his [UNK] now as his [UNK] [UNK] and [UNK] [UNK] were his [UNK] set next to his eyes                                                                                                                                                                                                                                                                                                                                                                                                                                                                                                                                                                                                                                                                                                                             \n",
            "\n",
            "Original:  b\"The story by Norman Maclean is a masterwork; Redford's film is a mediocrity. He adds banal scenes of the Maclean brothers going over a falls and of them double-dating in a seedy bar that were not even hinted at in the story. The cipher, Brad Pitt, trying to play the charismatic Paul Maclean, a genius outdoors, proves either risible or depressing, depending on what the original story meant to you. Some of the fly casting scenes are beautiful. Also, Tom Skerritt as the father and Craig Sheffer as Norman are strong and masculine, as men were once expected to be. None of the women make an impression in the film, which is regrettable, because Maclean loved the women in his story and made this clear, even poetic.\"\n",
            "Round-trip:  the story by [UNK] [UNK] is a [UNK] [UNK] film is a [UNK] he [UNK] [UNK] scenes of the [UNK] brothers going over a falls and of them [UNK] in a [UNK] [UNK] that were not even [UNK] at in the story the [UNK] [UNK] [UNK] trying to play the [UNK] paul [UNK] a [UNK] [UNK] [UNK] either [UNK] or [UNK] [UNK] on what the original story meant to you some of the [UNK] casting scenes are beautiful also tom [UNK] as the father and [UNK] [UNK] as [UNK] are strong and [UNK] as men were once expected to be none of the women make an [UNK] in the film which is [UNK] because [UNK] loved the women in his story and made this clear even [UNK]                                                                                                                                                                                                                                                                                                                                                                                                                                                                                                                                                                                                                                                                                                                                 \n",
            "\n"
          ]
        }
      ]
    },
    {
      "cell_type": "code",
      "source": [
        "model = tf.keras.Sequential([\n",
        "    encoder,\n",
        "    tf.keras.layers.Embedding(\n",
        "        input_dim=len(encoder.get_vocabulary()),\n",
        "        output_dim=64,\n",
        "        # Use masking to handle the variable sequence lengths\n",
        "        mask_zero=True),\n",
        "    tf.keras.layers.Bidirectional(tf.keras.layers.LSTM(64)),\n",
        "    tf.keras.layers.Dense(64, activation='relu'),\n",
        "    tf.keras.layers.Dense(1)\n",
        "])"
      ],
      "metadata": {
        "id": "0m3NqJDKVebo"
      },
      "execution_count": 24,
      "outputs": []
    },
    {
      "cell_type": "code",
      "source": [
        "sample_text = ('The movie was cool. The animation and the graphics '\n",
        "               'were out of this world. I would recommend this movie.')\n",
        "predictions = model.predict(np.array([sample_text]))\n",
        "print(predictions[0])"
      ],
      "metadata": {
        "colab": {
          "base_uri": "https://localhost:8080/"
        },
        "id": "3CoruqYKWsgG",
        "outputId": "f6bbfd4e-ed39-42e6-9217-970a4e3fbf9f"
      },
      "execution_count": 26,
      "outputs": [
        {
          "output_type": "stream",
          "name": "stdout",
          "text": [
            "[-0.00693018]\n"
          ]
        }
      ]
    },
    {
      "cell_type": "code",
      "source": [
        "padding = \"the \" * 2000\n",
        "predictions = model.predict(np.array([sample_text, padding]))\n",
        "print(predictions[0])"
      ],
      "metadata": {
        "colab": {
          "base_uri": "https://localhost:8080/"
        },
        "id": "-sNEz-FCW3RB",
        "outputId": "b6b2c813-3fa9-459b-ac79-a2ced5e5436a"
      },
      "execution_count": 27,
      "outputs": [
        {
          "output_type": "stream",
          "name": "stdout",
          "text": [
            "[-0.00693018]\n"
          ]
        }
      ]
    },
    {
      "cell_type": "markdown",
      "source": [
        ""
      ],
      "metadata": {
        "id": "87TOYOwKclle"
      }
    },
    {
      "cell_type": "code",
      "source": [
        "model.compile(loss=tf.keras.losses.BinaryCrossentropy(from_logits=True),\n",
        "              optimizer=tf.keras.optimizers.Adam(1e-4),\n",
        "              metrics=['accuracy'])"
      ],
      "metadata": {
        "id": "7fpLuQaSXzTJ"
      },
      "execution_count": 28,
      "outputs": []
    },
    {
      "cell_type": "code",
      "source": [
        "history = model.fit(train_dataset, epochs=10,\n",
        "                    validation_data=test_dataset,\n",
        "                    validation_steps=30)"
      ],
      "metadata": {
        "colab": {
          "base_uri": "https://localhost:8080/"
        },
        "id": "GL5SNofMX4fB",
        "outputId": "2f7332bb-b5a7-4cc3-a48e-88ea1660b7cc"
      },
      "execution_count": 29,
      "outputs": [
        {
          "output_type": "stream",
          "name": "stdout",
          "text": [
            "Epoch 1/10\n",
            "391/391 [==============================] - 753s 2s/step - loss: 0.6218 - accuracy: 0.5899 - val_loss: 0.4604 - val_accuracy: 0.7661\n",
            "Epoch 2/10\n",
            "391/391 [==============================] - 739s 2s/step - loss: 0.4076 - accuracy: 0.8093 - val_loss: 0.3852 - val_accuracy: 0.8089\n",
            "Epoch 3/10\n",
            "391/391 [==============================] - 736s 2s/step - loss: 0.3425 - accuracy: 0.8490 - val_loss: 0.3451 - val_accuracy: 0.8479\n",
            "Epoch 4/10\n",
            "391/391 [==============================] - 737s 2s/step - loss: 0.3227 - accuracy: 0.8608 - val_loss: 0.3379 - val_accuracy: 0.8380\n",
            "Epoch 5/10\n",
            "391/391 [==============================] - 742s 2s/step - loss: 0.3131 - accuracy: 0.8642 - val_loss: 0.3296 - val_accuracy: 0.8589\n",
            "Epoch 6/10\n",
            "391/391 [==============================] - 741s 2s/step - loss: 0.3088 - accuracy: 0.8692 - val_loss: 0.3234 - val_accuracy: 0.8542\n",
            "Epoch 7/10\n",
            "391/391 [==============================] - 747s 2s/step - loss: 0.3071 - accuracy: 0.8680 - val_loss: 0.3241 - val_accuracy: 0.8562\n",
            "Epoch 8/10\n",
            "391/391 [==============================] - 740s 2s/step - loss: 0.3048 - accuracy: 0.8675 - val_loss: 0.3302 - val_accuracy: 0.8453\n",
            "Epoch 9/10\n",
            "391/391 [==============================] - 739s 2s/step - loss: 0.3015 - accuracy: 0.8714 - val_loss: 0.3216 - val_accuracy: 0.8573\n",
            "Epoch 10/10\n",
            "391/391 [==============================] - 760s 2s/step - loss: 0.3017 - accuracy: 0.8707 - val_loss: 0.3274 - val_accuracy: 0.8453\n"
          ]
        }
      ]
    },
    {
      "cell_type": "code",
      "source": [
        "model.save('my_model.h5',save_format=\"h5\")"
      ],
      "metadata": {
        "colab": {
          "base_uri": "https://localhost:8080/",
          "height": 328
        },
        "id": "vl63RX39X6gp",
        "outputId": "26b98140-6b02-4848-b286-631a2a10d9e8"
      },
      "execution_count": 35,
      "outputs": [
        {
          "output_type": "error",
          "ename": "NotImplementedError",
          "evalue": "ignored",
          "traceback": [
            "\u001b[0;31m---------------------------------------------------------------------------\u001b[0m",
            "\u001b[0;31mNotImplementedError\u001b[0m                       Traceback (most recent call last)",
            "\u001b[0;32m<ipython-input-35-de2bf7c9e1f8>\u001b[0m in \u001b[0;36m<module>\u001b[0;34m()\u001b[0m\n\u001b[0;32m----> 1\u001b[0;31m \u001b[0mmodel\u001b[0m\u001b[0;34m.\u001b[0m\u001b[0msave\u001b[0m\u001b[0;34m(\u001b[0m\u001b[0;34m'my_model.h5'\u001b[0m\u001b[0;34m,\u001b[0m\u001b[0msave_format\u001b[0m\u001b[0;34m=\u001b[0m\u001b[0;34m\"h5\"\u001b[0m\u001b[0;34m)\u001b[0m\u001b[0;34m\u001b[0m\u001b[0;34m\u001b[0m\u001b[0m\n\u001b[0m",
            "\u001b[0;32m/usr/local/lib/python3.7/dist-packages/keras/utils/traceback_utils.py\u001b[0m in \u001b[0;36merror_handler\u001b[0;34m(*args, **kwargs)\u001b[0m\n\u001b[1;32m     65\u001b[0m     \u001b[0;32mexcept\u001b[0m \u001b[0mException\u001b[0m \u001b[0;32mas\u001b[0m \u001b[0me\u001b[0m\u001b[0;34m:\u001b[0m  \u001b[0;31m# pylint: disable=broad-except\u001b[0m\u001b[0;34m\u001b[0m\u001b[0;34m\u001b[0m\u001b[0m\n\u001b[1;32m     66\u001b[0m       \u001b[0mfiltered_tb\u001b[0m \u001b[0;34m=\u001b[0m \u001b[0m_process_traceback_frames\u001b[0m\u001b[0;34m(\u001b[0m\u001b[0me\u001b[0m\u001b[0;34m.\u001b[0m\u001b[0m__traceback__\u001b[0m\u001b[0;34m)\u001b[0m\u001b[0;34m\u001b[0m\u001b[0;34m\u001b[0m\u001b[0m\n\u001b[0;32m---> 67\u001b[0;31m       \u001b[0;32mraise\u001b[0m \u001b[0me\u001b[0m\u001b[0;34m.\u001b[0m\u001b[0mwith_traceback\u001b[0m\u001b[0;34m(\u001b[0m\u001b[0mfiltered_tb\u001b[0m\u001b[0;34m)\u001b[0m \u001b[0;32mfrom\u001b[0m \u001b[0;32mNone\u001b[0m\u001b[0;34m\u001b[0m\u001b[0;34m\u001b[0m\u001b[0m\n\u001b[0m\u001b[1;32m     68\u001b[0m     \u001b[0;32mfinally\u001b[0m\u001b[0;34m:\u001b[0m\u001b[0;34m\u001b[0m\u001b[0;34m\u001b[0m\u001b[0m\n\u001b[1;32m     69\u001b[0m       \u001b[0;32mdel\u001b[0m \u001b[0mfiltered_tb\u001b[0m\u001b[0;34m\u001b[0m\u001b[0;34m\u001b[0m\u001b[0m\n",
            "\u001b[0;32m/usr/local/lib/python3.7/dist-packages/keras/saving/hdf5_format.py\u001b[0m in \u001b[0;36m_legacy_weights\u001b[0;34m(layer)\u001b[0m\n\u001b[1;32m    970\u001b[0m   \u001b[0;32mif\u001b[0m \u001b[0many\u001b[0m\u001b[0;34m(\u001b[0m\u001b[0;32mnot\u001b[0m \u001b[0misinstance\u001b[0m\u001b[0;34m(\u001b[0m\u001b[0mw\u001b[0m\u001b[0;34m,\u001b[0m \u001b[0mtf\u001b[0m\u001b[0;34m.\u001b[0m\u001b[0mVariable\u001b[0m\u001b[0;34m)\u001b[0m \u001b[0;32mfor\u001b[0m \u001b[0mw\u001b[0m \u001b[0;32min\u001b[0m \u001b[0mweights\u001b[0m\u001b[0;34m)\u001b[0m\u001b[0;34m:\u001b[0m\u001b[0;34m\u001b[0m\u001b[0;34m\u001b[0m\u001b[0m\n\u001b[1;32m    971\u001b[0m     raise NotImplementedError(\n\u001b[0;32m--> 972\u001b[0;31m         \u001b[0;34mf'Save or restore weights that is not an instance of `tf.Variable` is '\u001b[0m\u001b[0;34m\u001b[0m\u001b[0;34m\u001b[0m\u001b[0m\n\u001b[0m\u001b[1;32m    973\u001b[0m         \u001b[0;34mf'not supported in h5, use `save_format=\\'tf\\'` instead. Received a '\u001b[0m\u001b[0;34m\u001b[0m\u001b[0;34m\u001b[0m\u001b[0m\n\u001b[1;32m    974\u001b[0m         f'model or layer {layer.__class__.__name__} with weights {weights}')\n",
            "\u001b[0;31mNotImplementedError\u001b[0m: Save or restore weights that is not an instance of `tf.Variable` is not supported in h5, use `save_format='tf'` instead. Received a model or layer TextVectorization with weights [<keras.layers.preprocessing.index_lookup.VocabWeightHandler object at 0x7f8776492f10>]"
          ]
        }
      ]
    },
    {
      "cell_type": "code",
      "source": [
        "test_loss, test_acc = model.evaluate(test_dataset)\n",
        "\n",
        "print('Test Loss:', test_loss)\n",
        "print('Test Accuracy:', test_acc)"
      ],
      "metadata": {
        "colab": {
          "base_uri": "https://localhost:8080/"
        },
        "id": "LZWOXtxc2T7Q",
        "outputId": "b277b11b-c5b9-4332-b18e-77614463c4f0"
      },
      "execution_count": 36,
      "outputs": [
        {
          "output_type": "stream",
          "name": "stdout",
          "text": [
            "391/391 [==============================] - 166s 423ms/step - loss: 0.3224 - accuracy: 0.8463\n",
            "Test Loss: 0.32244279980659485\n",
            "Test Accuracy: 0.8463199734687805\n"
          ]
        }
      ]
    },
    {
      "cell_type": "code",
      "source": [
        "sample_text = ('The movie was not good. The animation and the graphics '\n",
        "               'were terrible. I would not recommend this movie.')\n",
        "predictions = model.predict(np.array([sample_text]))\n",
        "print(predictions)"
      ],
      "metadata": {
        "colab": {
          "base_uri": "https://localhost:8080/"
        },
        "id": "jAzb3QAw3kFt",
        "outputId": "0153cabb-a2ef-444e-bc25-551f8a135267"
      },
      "execution_count": 37,
      "outputs": [
        {
          "output_type": "stream",
          "name": "stdout",
          "text": [
            "[[-1.2872279]]\n"
          ]
        }
      ]
    },
    {
      "cell_type": "code",
      "source": [
        "def plot_graphs(history, metric):\n",
        "  plt.plot(history.history[metric])\n",
        "  plt.plot(history.history['val_'+metric], '')\n",
        "  plt.xlabel(\"Epochs\")\n",
        "  plt.ylabel(metric)\n",
        "  plt.legend([metric, 'val_'+metric])"
      ],
      "metadata": {
        "id": "3hpnPX615WKv"
      },
      "execution_count": 41,
      "outputs": []
    },
    {
      "cell_type": "code",
      "source": [
        "plt.figure(figsize=(16, 6))\n",
        "plt.subplot(1, 2, 1)\n",
        "plot_graphs(history, 'accuracy')\n",
        "plt.subplot(1, 2, 2)\n",
        "plot_graphs(history, 'loss')"
      ],
      "metadata": {
        "colab": {
          "base_uri": "https://localhost:8080/",
          "height": 388
        },
        "id": "PAadVSB14hUz",
        "outputId": "4b8c3346-9425-45d1-815b-8b81611ecaa0"
      },
      "execution_count": 42,
      "outputs": [
        {
          "output_type": "display_data",
          "data": {
            "image/png": "[encoded data removed]",
            "text/plain": [
              "<Figure size 1152x432 with 2 Axes>"
            ]
          },
          "metadata": {
            "needs_background": "light"
          }
        }
      ]
    },
    {
      "cell_type": "code",
      "source": [
        ""
      ],
      "metadata": {
        "id": "fy3NvrV15TWw"
      },
      "execution_count": null,
      "outputs": []
    },
    {
      "cell_type": "code",
      "source": [
        ""
      ],
      "metadata": {
        "id": "dPS4sWPS5CFC"
      },
      "execution_count": null,
      "outputs": []
    }
  ]
}