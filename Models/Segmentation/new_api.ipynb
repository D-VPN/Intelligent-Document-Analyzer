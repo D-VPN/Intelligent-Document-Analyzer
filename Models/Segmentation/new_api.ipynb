{
 "cells": [
  {
   "cell_type": "code",
   "execution_count": 52,
   "metadata": {},
   "outputs": [],
   "source": [
    "import cv2\n",
    "import numpy as np\n",
    "import pandas as pd\n",
    "import matplotlib.pyplot as plt\n",
    "import csv\n",
    "from pathlib import Path\n",
    "import os\n",
    "try:\n",
    "    from PIL import Image\n",
    "except ImportError:\n",
    "    import Image\n",
    "import pytesseract\n",
    "from matplotlib.pyplot import figure"
   ]
  },
  {
   "cell_type": "code",
   "execution_count": 91,
   "metadata": {},
   "outputs": [],
   "source": [
    "def API(img_path, filename):\n",
    "    img = cv2.imread(img_path, 0)\n",
    "\n",
    "    # thresholding the image to a binary image\n",
    "    img_bin = cv2.adaptiveThreshold(\n",
    "        img, 255, cv2.ADAPTIVE_THRESH_GAUSSIAN_C, cv2.THRESH_BINARY, 11, 2\n",
    "    )\n",
    "\n",
    "    # inverting the image\n",
    "    img_bin = 255 - img_bin\n",
    "\n",
    "    # countcol(width) of kernel as 100th of total width\n",
    "    ver_kernel_len = np.array(img).shape[0] // 75\n",
    "\n",
    "    # Defining a vertical kernel to detect all vertical lines of image\n",
    "    ver_kernel = cv2.getStructuringElement(cv2.MORPH_RECT, (1, ver_kernel_len))\n",
    "\n",
    "    # A kernel of 2x2\n",
    "    kernel = cv2.getStructuringElement(cv2.MORPH_RECT, (2, 2))\n",
    "\n",
    "    # Use vertical kernel to detect and save the vertical lines in a jpg\n",
    "    image_vertical_lines = cv2.erode(img_bin, ver_kernel, iterations=3)\n",
    "    vertical_lines = cv2.dilate(image_vertical_lines, ver_kernel, iterations=3)\n",
    "\n",
    "    arr = np.array(vertical_lines)\n",
    "\n",
    "    MAX = 255\n",
    "    i = 0\n",
    "    directory = \"output/\" + filename\n",
    "    Path(directory).mkdir(parents=True, exist_ok=True)\n",
    "\n",
    "    while i < len(arr):\n",
    "        for j in range(len(arr[i])):\n",
    "            if arr[i][j] == MAX:\n",
    "                start, end = i, 0\n",
    "                while arr[i][j] == MAX:\n",
    "                    i += 1\n",
    "                end = i - 1\n",
    "                x1, y1 = 0, start\n",
    "                x2, y2 = img.shape[1], end\n",
    "                img_key_val = img[y1:y2, x1: x2]\n",
    "                temp_img1 = img[y1:y2, x1: j]  # key\n",
    "                temp_img2 = img[y1 - 2:y2 + 2, j - 2: x2 + 2]  # value\n",
    "                parent_path = (\n",
    "                    os.path.abspath(os.getcwd())\n",
    "                    + \"\\\\output\\\\\"\n",
    "                    + filename\n",
    "                    + \"\\\\\"\n",
    "                    + str(i)\n",
    "                    + \"_\"\n",
    "                    + str(j)\n",
    "                )\n",
    "                save_path1 = (\n",
    "                    os.path.abspath(os.getcwd())\n",
    "                    + \"\\\\output\\\\\"\n",
    "                    + filename\n",
    "                    + \"\\\\\"\n",
    "                    + str(i)\n",
    "                    + \"_\"\n",
    "                    + str(j)\n",
    "                    + \"1.jpg\"\n",
    "                )\n",
    "\n",
    "                save_path2 = (\n",
    "                    os.path.abspath(os.getcwd())\n",
    "                    + \"\\\\output\\\\\"\n",
    "                    + filename\n",
    "                    + \"\\\\\"\n",
    "                    + str(i)\n",
    "                    + \"_\"\n",
    "                    + str(j)\n",
    "                    + \"2.jpg\"\n",
    "                )\n",
    "\n",
    "                cv2.imwrite(save_path1, temp_img1)\n",
    "                cv2.imwrite(save_path2, temp_img2)\n",
    "\n",
    "                key = pytesseract.image_to_string(temp_img1)\n",
    "                if \"Gender\" in key:\n",
    "                    value = multiple_choice(parent_path, key, cv2.imread(save_path2))\n",
    "                else:\n",
    "                    value = pytesseract.image_to_string(\n",
    "                        temp_img2).replace(\"|\", \"I\")\n",
    "                print(key, value)\n",
    "                break\n",
    "        i += 1"
   ]
  },
  {
   "cell_type": "code",
   "execution_count": 93,
   "metadata": {},
   "outputs": [
    {
     "name": "stdout",
     "output_type": "stream",
     "text": [
      "N:\\Nikhil\\Desktop\\College Projects\\LY Project\\Intelligent Text Extration\\Models\\Segmentation\\images\\ Deepika-Female-Young-Negative.png\n",
      "Name\n",
      "\f",
      "  \n",
      "\n",
      " \n",
      "\n",
      "Deepika Padukone\n",
      "\n",
      " \n",
      "\n",
      " \n",
      "\f",
      "\n",
      "Email\n",
      "\f",
      "  \n",
      "\n",
      " \n",
      "\n",
      "deepika@shen.com\n",
      "\n",
      " \n",
      "\n",
      " \n",
      "\f",
      "\n",
      "Date Of Birth (DDMMYYY)\n",
      "\f",
      "  \n",
      "\n",
      " \n",
      "\n",
      "09082003\n",
      "\n",
      " \n",
      "\n",
      " \n",
      "\f",
      "\n",
      "Phone Number\n",
      "\f",
      "  \n",
      "\n",
      " \n",
      "\n",
      "2315637895\n",
      "\n",
      " \n",
      "\n",
      " \n",
      "\f",
      "\n",
      "How do you feel about\n",
      "your role?\n",
      "\f",
      "  \n",
      "\n",
      " \n",
      "\n",
      " \n",
      "\n",
      "The companies’ policies are disgusting. There is\n",
      "no flexibility. There are no places for leisure\n",
      "activities, seriously?\n",
      "\n",
      " \n",
      "\n",
      " \n",
      "\n",
      " \n",
      "\f",
      "\n",
      "254.99\n",
      "218.6475\n",
      "Gender?\n",
      "\f",
      " [['Male\\n\\x0c', 'no'], ['Female\\n\\x0c', 'yes']]\n",
      "N:\\Nikhil\\Desktop\\College Projects\\LY Project\\Intelligent Text Extration\\Models\\Segmentation\\images\\ Nikhil-Male-Old-Positive.png\n",
      "Name\n",
      "\f",
      "  \n",
      "\n",
      " \n",
      "\n",
      "Nikhil DVP\n",
      "\n",
      " \n",
      "\n",
      " \n",
      "\f",
      "\n",
      "Email\n",
      "\f",
      "  \n",
      "\n",
      " \n",
      "\n",
      "nkhil@dvpn.com\n",
      "\n",
      " \n",
      "\n",
      " \n",
      "\f",
      "\n",
      "Date Of Birth (DDMMYYY)\n",
      "\f",
      "  \n",
      "\n",
      " \n",
      "\n",
      "11031990\n",
      "\n",
      " \n",
      "\n",
      " \n",
      "\f",
      "\n",
      "Phone Number\n",
      "\f",
      "  \n",
      "\n",
      " \n",
      "\n",
      "215336315\n",
      "\n",
      " \n",
      "\n",
      " \n",
      "\f",
      "\n",
      "How do you feel about\n",
      "your role?\n",
      "\f",
      "  \n",
      "\n",
      " \n",
      "\n",
      "personally think that your companies policies\n",
      "are good. We have rigid policies which I like.\n",
      "\n",
      " \n",
      "\n",
      " \n",
      "\f",
      "\n",
      "215.35\n",
      "254.99\n",
      "Gender?\n",
      "\f",
      " [['Male\\n\\x0c', 'yes'], ['Female\\n\\x0c', 'no']]\n",
      "N:\\Nikhil\\Desktop\\College Projects\\LY Project\\Intelligent Text Extration\\Models\\Segmentation\\images\\ Preritha-Female-Old-Negative.png\n",
      "Name\n",
      "\f",
      "  \n",
      "\n",
      " \n",
      "\n",
      "Preritha S\n",
      "\n",
      " \n",
      "\n",
      " \n",
      "\f",
      "\n",
      "Email\n",
      "\f",
      "  \n",
      "\n",
      " \n",
      "\n",
      "preritha@google.com\n",
      "\n",
      " \n",
      "\n",
      " \n",
      "\f",
      "\n",
      "Date Of Birth (DDMMYYY)\n",
      "\f",
      "  \n",
      "\n",
      " \n",
      "\n",
      "10021990\n",
      "\n",
      " \n",
      "\n",
      " \n",
      "\f",
      "\n",
      "Phone Number\n",
      "\f",
      "  \n",
      "\n",
      " \n",
      "\n",
      "3453567891\n",
      "\n",
      " \n",
      "\n",
      " \n",
      "\f",
      "\n",
      "How do you feel about\n",
      "your role?\n",
      "\f",
      "  \n",
      "\n",
      " \n",
      "\n",
      "I feel very suffocated. I have worked in this\n",
      "company for 7 years yet I am still not\n",
      "comfortable. My manager does not give me\n",
      "my space.\n",
      "\n",
      " \n",
      "\n",
      " \n",
      "\f",
      "\n",
      "254.99609375\n",
      "203.85546875\n",
      "Gender?\n",
      "\f",
      " [['Male\\n\\x0c', 'no'], ['Female\\n\\x0c', 'yes']]\n",
      "N:\\Nikhil\\Desktop\\College Projects\\LY Project\\Intelligent Text Extration\\Models\\Segmentation\\images\\ sample.png\n",
      "Name\n",
      "\f",
      "  \n",
      "\n",
      " \n",
      "\n",
      "Punws\n",
      "\n",
      " \n",
      "\n",
      " \n",
      "\f",
      "\n",
      "Email\n",
      "\f",
      "  \n",
      "\n",
      " \n",
      "\n",
      "purvi@google.com\n",
      "\n",
      " \n",
      "\n",
      " \n",
      "\f",
      "\n",
      "Date Of Birth (DDMMYYY)\n",
      "\f",
      "  \n",
      "\n",
      " \n",
      "\n",
      "10021990\n",
      "\n",
      " \n",
      "\n",
      " \n",
      "\f",
      "\n",
      "Phone Number\n",
      "\f",
      "  \n",
      "\n",
      " \n",
      "\n",
      "3453567891\n",
      "\n",
      " \n",
      "\n",
      " \n",
      "\f",
      "\n",
      "How do you feel about\n",
      "your role?\n",
      "\f",
      "  \n",
      "\n",
      " \n",
      "\n",
      "I feel very suffocated. I have worked in this\n",
      "company for 7 years yet I am still not\n",
      "comfortable. My manager does not give me\n",
      "my space.\n",
      "\n",
      " \n",
      "\n",
      " \n",
      "\f",
      "\n",
      "254.99609375\n",
      "206.96875\n",
      "Gender?\n",
      "\f",
      " [['Male\\n\\x0c', 'no'], [') Female\\n\\x0c', 'yes']]\n"
     ]
    }
   ],
   "source": [
    "path = os.path.abspath(os.getcwd()) + \"\\\\images\\\\\"\n",
    "for filename in os.listdir(path):\n",
    "    print(path + \" \" + filename)\n",
    "    API(\"images\\\\\" + filename, filename[:-4])"
   ]
  },
  {
   "cell_type": "code",
   "execution_count": 9,
   "metadata": {},
   "outputs": [],
   "source": [
    "# We identify the checkboxes\n",
    "# run ocr in them\n",
    "# if returns something then it is filled otherwise it is not?"
   ]
  },
  {
   "cell_type": "code",
   "execution_count": 31,
   "metadata": {},
   "outputs": [],
   "source": [
    "### reading input image\n",
    "image_path='651_2902.jpg'\n",
    "image=cv2.imread(image_path)\n",
    "\n",
    "### converting BGR to Grayscale\n",
    "gray_scale=cv2.cvtColor(image,cv2.COLOR_BGR2GRAY)\n",
    "\n",
    "### Binarising image\n",
    "th1,img_bin = cv2.threshold(gray_scale,180,225,cv2.THRESH_OTSU)"
   ]
  },
  {
   "cell_type": "code",
   "execution_count": 18,
   "metadata": {},
   "outputs": [
    {
     "data": {
      "text/plain": [
       "<matplotlib.image.AxesImage at 0x2604fda3108>"
      ]
     },
     "execution_count": 18,
     "metadata": {},
     "output_type": "execute_result"
    },
    {
     "data": {
      "image/png": "[encoded data removed]",
      "text/plain": [
       "<Figure size 432x288 with 1 Axes>"
      ]
     },
     "metadata": {
      "needs_background": "light"
     },
     "output_type": "display_data"
    }
   ],
   "source": [
    "plt.imshow(img_bin)"
   ]
  },
  {
   "cell_type": "code",
   "execution_count": 19,
   "metadata": {},
   "outputs": [
    {
     "data": {
      "text/plain": [
       "<matplotlib.image.AxesImage at 0x2604fe088c8>"
      ]
     },
     "execution_count": 19,
     "metadata": {},
     "output_type": "execute_result"
    },
    {
     "data": {
      "image/png": "[encoded data removed]",
      "text/plain": [
       "<Figure size 432x288 with 1 Axes>"
      ]
     },
     "metadata": {
      "needs_background": "light"
     },
     "output_type": "display_data"
    }
   ],
   "source": [
    "plt.imshow(gray_scale)\n"
   ]
  },
  {
   "cell_type": "code",
   "execution_count": 20,
   "metadata": {},
   "outputs": [],
   "source": [
    "### defining kernels\n",
    "\n",
    "lWidth = 2\n",
    "lineMinWidth = 15\n",
    "\n",
    "kernal1 = np.ones((lWidth,lWidth), np.uint8)\n",
    "kernal1h = np.ones((1,lWidth), np.uint8)\n",
    "kernal1v = np.ones((lWidth,1), np.uint8)\n",
    "\n",
    "kernal6 = np.ones((lineMinWidth,lineMinWidth), np.uint8)\n",
    "kernal6h = np.ones((1,lineMinWidth), np.uint8)\n",
    "kernal6v = np.ones((lineMinWidth,1), np.uint8)\n",
    "\n",
    "### finding horizontal lines\n",
    "img_bin_h = cv2.morphologyEx(~img_bin, cv2.MORPH_CLOSE, kernal1h) # bridge small gap in horizonntal lines\n",
    "img_bin_h = cv2.morphologyEx(img_bin_h, cv2.MORPH_OPEN, kernal6h) # kep ony horiz lines by eroding everything else in hor direction"
   ]
  },
  {
   "cell_type": "code",
   "execution_count": 21,
   "metadata": {},
   "outputs": [
    {
     "data": {
      "text/plain": [
       "<matplotlib.image.AxesImage at 0x2604fe6e7c8>"
      ]
     },
     "execution_count": 21,
     "metadata": {},
     "output_type": "execute_result"
    },
    {
     "data": {
      "image/png": "[encoded data removed]",
      "text/plain": [
       "<Figure size 432x288 with 1 Axes>"
      ]
     },
     "metadata": {
      "needs_background": "light"
     },
     "output_type": "display_data"
    }
   ],
   "source": [
    "plt.imshow(img_bin_h)\n"
   ]
  },
  {
   "cell_type": "code",
   "execution_count": 22,
   "metadata": {},
   "outputs": [],
   "source": [
    "## detect vert lines\n",
    "img_bin_v = cv2.morphologyEx(~img_bin, cv2.MORPH_CLOSE, kernal1v)  # bridge small gap in vert lines\n",
    "img_bin_v = cv2.morphologyEx(img_bin_v, cv2.MORPH_OPEN, kernal6v)# kep ony vert lines by eroding everything else in vert direction\n"
   ]
  },
  {
   "cell_type": "code",
   "execution_count": 23,
   "metadata": {},
   "outputs": [
    {
     "data": {
      "text/plain": [
       "<matplotlib.image.AxesImage at 0x2604fed2348>"
      ]
     },
     "execution_count": 23,
     "metadata": {},
     "output_type": "execute_result"
    },
    {
     "data": {
      "image/png": "[encoded data removed]",
      "text/plain": [
       "<Figure size 432x288 with 1 Axes>"
      ]
     },
     "metadata": {
      "needs_background": "light"
     },
     "output_type": "display_data"
    }
   ],
   "source": [
    "plt.imshow(img_bin_v)\n"
   ]
  },
  {
   "cell_type": "code",
   "execution_count": 24,
   "metadata": {},
   "outputs": [],
   "source": [
    "def fix(img):\n",
    "    img[img>127]=255\n",
    "    img[img<127]=0\n",
    "    return img\n",
    "img_bin_final = fix(fix(img_bin_h)|fix(img_bin_v))\n"
   ]
  },
  {
   "cell_type": "code",
   "execution_count": 25,
   "metadata": {},
   "outputs": [
    {
     "data": {
      "text/plain": [
       "<matplotlib.image.AxesImage at 0x2604ff40908>"
      ]
     },
     "execution_count": 25,
     "metadata": {},
     "output_type": "execute_result"
    },
    {
     "data": {
      "image/png": "[encoded data removed]",
      "text/plain": [
       "<Figure size 432x288 with 1 Axes>"
      ]
     },
     "metadata": {
      "needs_background": "light"
     },
     "output_type": "display_data"
    }
   ],
   "source": [
    "plt.imshow(img_bin_final)\n"
   ]
  },
  {
   "cell_type": "code",
   "execution_count": 26,
   "metadata": {},
   "outputs": [],
   "source": [
    "### getting labels\n",
    "ret, labels, stats,centroids = cv2.connectedComponentsWithStats(~img_bin_final, connectivity=8, ltype=cv2.CV_32S)\n",
    "\n",
    "### drawing recangles for visualisation\n",
    "for x,y,w,h,area in stats[2:]:\n",
    "    cv2.rectangle(image,(x,y),(x+w,y+h),(0,0,255),2)\n"
   ]
  },
  {
   "cell_type": "code",
   "execution_count": 29,
   "metadata": {},
   "outputs": [
    {
     "name": "stdout",
     "output_type": "stream",
     "text": [
      "[[    2     2   173    29   222]\n",
      " [    0     0   359    31 10855]\n",
      " [    3    30    26     1    26]\n",
      " [  147    30    26     1    26]]\n"
     ]
    }
   ],
   "source": [
    "print(stats)"
   ]
  },
  {
   "cell_type": "code",
   "execution_count": 21,
   "metadata": {},
   "outputs": [
    {
     "data": {
      "text/plain": [
       "[<matplotlib.lines.Line2D at 0x1eea23d3488>,\n",
       " <matplotlib.lines.Line2D at 0x1eea23d9fc8>,\n",
       " <matplotlib.lines.Line2D at 0x1eea33b01c8>,\n",
       " <matplotlib.lines.Line2D at 0x1eea33b0388>,\n",
       " <matplotlib.lines.Line2D at 0x1eea33b0588>]"
      ]
     },
     "execution_count": 21,
     "metadata": {},
     "output_type": "execute_result"
    },
    {
     "data": {
      "image/png": "[encoded data removed]",
      "text/plain": [
       "<Figure size 432x288 with 1 Axes>"
      ]
     },
     "metadata": {
      "needs_background": "light"
     },
     "output_type": "display_data"
    }
   ],
   "source": [
    "plt.plot(stats)"
   ]
  },
  {
   "cell_type": "code",
   "execution_count": 27,
   "metadata": {},
   "outputs": [
    {
     "data": {
      "text/plain": [
       "<matplotlib.image.AxesImage at 0x2604ffaac48>"
      ]
     },
     "execution_count": 27,
     "metadata": {},
     "output_type": "execute_result"
    },
    {
     "data": {
      "image/png": "[encoded data removed]",
      "text/plain": [
       "<Figure size 432x288 with 1 Axes>"
      ]
     },
     "metadata": {
      "needs_background": "light"
     },
     "output_type": "display_data"
    }
   ],
   "source": [
    "plt.imshow(image)"
   ]
  },
  {
   "cell_type": "code",
   "execution_count": 21,
   "metadata": {},
   "outputs": [],
   "source": [
    "i = 1\n",
    "for x,y,w,h,area in stats[2:]:\n",
    "    cv2.rectangle(image,(x,y),(x+w,y+h),(0,0,255),2)\n",
    "\n",
    "    if i!=stats[2:].shape[0]:\n",
    "        value = image[y - 1:y+h - 1, x + 1: x+w - 1]  # val\n",
    "        key_x_end = stats[2:][i][0] - 1\n",
    "        key = image[y:y+h, x + w +1: key_x_end]  # val  # key\n",
    "    else:\n",
    "        value = image[y - 1:y+h - 1, x + 1: x+w - 1]  # val\n",
    "        key = image[y:y+h, x + w +1:]  # val  # key\n",
    "\n",
    "    \n",
    "    cv2.imwrite(\"key_\" + str(i) + \".jpg\", key)\n",
    "    cv2.imwrite(\"value_\" + str(i) + \".jpg\", value)\n",
    "    i += 1\n"
   ]
  },
  {
   "cell_type": "code",
   "execution_count": 9,
   "metadata": {},
   "outputs": [
    {
     "name": "stdout",
     "output_type": "stream",
     "text": [
      "467 42 512 86\n",
      "715 42 760 86\n"
     ]
    }
   ],
   "source": [
    "for x,y,w,h,area in stats[2:]:\n",
    "    print(x,y,x+w,y+h)\n"
   ]
  },
  {
   "cell_type": "code",
   "execution_count": 10,
   "metadata": {},
   "outputs": [
    {
     "data": {
      "text/plain": [
       "array([[ 467,   42,   45,   44, 1980],\n",
       "       [ 715,   42,   45,   44, 1980]], dtype=int32)"
      ]
     },
     "execution_count": 10,
     "metadata": {},
     "output_type": "execute_result"
    }
   ],
   "source": [
    "stats[2:]"
   ]
  },
  {
   "cell_type": "code",
   "execution_count": 11,
   "metadata": {},
   "outputs": [
    {
     "data": {
      "text/plain": [
       "array([[    47,     40,    826,     49,   1244],\n",
       "       [     0,      0,   1011,    132, 128248],\n",
       "       [   467,     42,     45,     44,   1980],\n",
       "       [   715,     42,     45,     44,   1980]], dtype=int32)"
      ]
     },
     "execution_count": 11,
     "metadata": {},
     "output_type": "execute_result"
    }
   ],
   "source": [
    "stats"
   ]
  },
  {
   "cell_type": "code",
   "execution_count": 18,
   "metadata": {},
   "outputs": [
    {
     "data": {
      "text/plain": [
       "2"
      ]
     },
     "execution_count": 18,
     "metadata": {},
     "output_type": "execute_result"
    }
   ],
   "source": [
    "stats[2:].shape[0]"
   ]
  },
  {
   "cell_type": "code",
   "execution_count": 4,
   "metadata": {},
   "outputs": [],
   "source": [
    "def fix(img):\n",
    "    img[img>127]=255\n",
    "    img[img<127]=0\n",
    "    return img"
   ]
  },
  {
   "cell_type": "code",
   "execution_count": 58,
   "metadata": {},
   "outputs": [],
   "source": [
    "def multiple_choice_old(parent_path, parent_key, image):\n",
    "    \n",
    "#     ### converting BGR to Grayscale\n",
    "#     gray_scale=cv2.cvtColor(image,cv2.COLOR_BGR2GRAY)\n",
    "\n",
    "    ### Binarising image\n",
    "    th1,img_bin = cv2.threshold(image,180,225,cv2.THRESH_OTSU)\n",
    "    \n",
    "    lWidth = 2\n",
    "    lineMinWidth = 15\n",
    "\n",
    "    kernal1 = np.ones((lWidth,lWidth), np.uint8)\n",
    "    kernal1h = np.ones((1,lWidth), np.uint8)\n",
    "    kernal1v = np.ones((lWidth,1), np.uint8)\n",
    "\n",
    "    kernal6 = np.ones((lineMinWidth,lineMinWidth), np.uint8)\n",
    "    kernal6h = np.ones((1,lineMinWidth), np.uint8)\n",
    "    kernal6v = np.ones((lineMinWidth,1), np.uint8)\n",
    "\n",
    "    ### finding horizontal lines\n",
    "    img_bin_h = cv2.morphologyEx(~img_bin, cv2.MORPH_CLOSE, kernal1h) # bridge small gap in horizonntal lines\n",
    "    img_bin_h = cv2.morphologyEx(img_bin_h, cv2.MORPH_OPEN, kernal6h) # kep ony horiz lines by eroding everything else in hor direction\n",
    "    \n",
    "    ## detect vert lines\n",
    "    img_bin_v = cv2.morphologyEx(~img_bin, cv2.MORPH_CLOSE, kernal1v)  # bridge small gap in vert lines\n",
    "    img_bin_v = cv2.morphologyEx(img_bin_v, cv2.MORPH_OPEN, kernal6v)# kep ony vert lines by eroding everything else in vert direction\n",
    "\n",
    "    # fix image\n",
    "    img_bin_final = fix(fix(img_bin_h)|fix(img_bin_v))\n",
    "\n",
    "    ### getting labels\n",
    "    ret, labels, stats,centroids = cv2.connectedComponentsWithStats(~img_bin_final, connectivity=8, ltype=cv2.CV_32S)\n",
    "\n",
    "    extracted_value = [] \n",
    "    \n",
    "    ### cropping the image\n",
    "    i = 1\n",
    "    for x,y,w,h,area in stats[2:]:\n",
    "        cv2.rectangle(image,(x,y),(x+w,y+h),(0,0,255),2)\n",
    "\n",
    "        if i!=stats[2:].shape[0]:\n",
    "            value_img = image[y:y+h, x: x+w]  # val\n",
    "            key_x_end = stats[2:][i][0] - 1\n",
    "            key_img = image[y:y+h, x + w: key_x_end]  # key\n",
    "            \n",
    "        else:\n",
    "            value_img = image[y:y+h, x: x+w]  # val\n",
    "            key_img = image[y:y+h, x + w:]  # key\n",
    "\n",
    "        plt.imshow(value_img)\n",
    "        plt.imshow(key_img)\n",
    "        \n",
    "        key_val = [ pytesseract.image_to_string(\n",
    "            key_img).replace(\"|\", \"I\"), pytesseract.image_to_string(\n",
    "            value_img).replace(\"|\", \"I\") ]\n",
    "        \n",
    "        extracted_value.append(key_val)\n",
    "            \n",
    "        cv2.imwrite(parent_path + \"_key_\" + str(i) + \".jpg\", key_img)\n",
    "        cv2.imwrite(parent_path + \"_value_\" + str(i) + \".jpg\", value_img)\n",
    "        i += 1\n",
    "        \n",
    "    return extracted_value"
   ]
  },
  {
   "cell_type": "code",
   "execution_count": 90,
   "metadata": {},
   "outputs": [],
   "source": [
    "def multiple_choice(parent_path, parent_key, image):\n",
    "    \n",
    "    ### converting BGR to Grayscale\n",
    "    gray_scale=cv2.cvtColor(image,cv2.COLOR_BGR2GRAY)\n",
    "\n",
    "    ### Binarising image\n",
    "    th1,img_bin = cv2.threshold(gray_scale,150,225,cv2.THRESH_BINARY)\n",
    "    img_bin=~img_bin\n",
    "    \n",
    "    line_min_width = 15\n",
    "\n",
    "    kernal_h = np.ones((1,line_min_width), np.uint8)\n",
    "    kernal_v = np.ones((line_min_width,1), np.uint8)\n",
    "\n",
    "    ### finding horizontal lines\n",
    "    img_bin_h = cv2.morphologyEx(img_bin, cv2.MORPH_OPEN, kernal_h)\n",
    "    \n",
    "    ## detect vert lines\n",
    "    img_bin_v = cv2.morphologyEx(img_bin, cv2.MORPH_OPEN, kernal_v)\n",
    "\n",
    "    # fix image\n",
    "    img_bin_final=img_bin_h|img_bin_v\n",
    "\n",
    "    final_kernel = np.ones((3,3), np.uint8)\n",
    "    img_bin_final=cv2.dilate(img_bin_final,final_kernel,iterations=1)\n",
    "\n",
    "    ### getting labels\n",
    "    ret, labels, stats,centroids = cv2.connectedComponentsWithStats(~img_bin_final, connectivity=8, ltype=cv2.CV_32S)\n",
    "\n",
    "    extracted_value = [] \n",
    "    \n",
    "    ### cropping the image\n",
    "    i = 1\n",
    "    for x,y,w,h,area in stats[2:]:\n",
    "\n",
    "        if i!=stats[2:].shape[0]:\n",
    "            value_img = image[y+2:y+h-2, x+2: x+w-2]  # val\n",
    "            key_x_end = stats[2:][i][0] - 1\n",
    "            key_img = image[y:y+h, x + w: key_x_end]  # key\n",
    "            \n",
    "        else:\n",
    "            value_img = image[y+2:y+h-2, x+2: x+w-2]  # val\n",
    "            key_img = image[y:y+h, x + w:]  # key\n",
    "        \n",
    "        print(np.mean(value_img))\n",
    "        if np.mean(value_img) >= 253:\n",
    "            value_text = \"no\"\n",
    "        else:\n",
    "            value_text= \"yes\"\n",
    "        key_val = [ pytesseract.image_to_string(\n",
    "            key_img).replace(\"|\", \"I\"), value_text ]\n",
    "        \n",
    "        extracted_value.append(key_val)\n",
    "            \n",
    "        cv2.imwrite(parent_path + \"_key_\" + str(i) + \".jpg\", key_img)\n",
    "        cv2.imwrite(parent_path + \"_value_\" + str(i) + \".jpg\", value_img)\n",
    "        i += 1\n",
    "        \n",
    "    return extracted_value"
   ]
  },
  {
   "cell_type": "code",
   "execution_count": 62,
   "metadata": {},
   "outputs": [],
   "source": [
    "def plot(image,cmap=None):\n",
    "    plt.figure(figsize=(15,15))\n",
    "    plt.imshow(image,cmap=cmap) \n",
    "plot_flag=True"
   ]
  },
  {
   "cell_type": "code",
   "execution_count": 63,
   "metadata": {},
   "outputs": [
    {
     "data": {
      "image/png": "[encoded data removed]",
      "text/plain": [
       "<Figure size 1080x1080 with 1 Axes>"
      ]
     },
     "metadata": {
      "needs_background": "light"
     },
     "output_type": "display_data"
    }
   ],
   "source": [
    "image_path='651_2902.jpg'\n",
    "image=cv2.imread(image_path)\n",
    "\n",
    "### converting BGR to Grayscale\n",
    "gray_scale=cv2.cvtgray_scale=cv2.cvtColor(image,cv2.COLOR_BGR2GRAY)\n",
    "th1,img_bin = cv2.threshold(gray_scale,150,225,cv2.THRESH_BINARY)\n",
    "img_bin=~img_bin\n",
    "plot(img_bin,'gray')"
   ]
  },
  {
   "cell_type": "code",
   "execution_count": 64,
   "metadata": {},
   "outputs": [],
   "source": [
    "line_min_width = 15"
   ]
  },
  {
   "cell_type": "code",
   "execution_count": 65,
   "metadata": {},
   "outputs": [],
   "source": [
    "kernal_h = np.ones((1,line_min_width), np.uint8)\n",
    "kernal_v = np.ones((line_min_width,1), np.uint8)"
   ]
  },
  {
   "cell_type": "code",
   "execution_count": 66,
   "metadata": {},
   "outputs": [
    {
     "data": {
      "image/png": "[encoded data removed]",
      "text/plain": [
       "<Figure size 1080x1080 with 1 Axes>"
      ]
     },
     "metadata": {
      "needs_background": "light"
     },
     "output_type": "display_data"
    }
   ],
   "source": [
    "img_bin_h = cv2.morphologyEx(img_bin, cv2.MORPH_OPEN, kernal_h)\n",
    "plot(img_bin_h,'gray')"
   ]
  },
  {
   "cell_type": "code",
   "execution_count": 67,
   "metadata": {},
   "outputs": [
    {
     "data": {
      "image/png": "[encoded data removed]",
      "text/plain": [
       "<Figure size 1080x1080 with 1 Axes>"
      ]
     },
     "metadata": {
      "needs_background": "light"
     },
     "output_type": "display_data"
    }
   ],
   "source": [
    "img_bin_v = cv2.morphologyEx(img_bin, cv2.MORPH_OPEN, kernal_v)\n",
    "plot(img_bin_v,'gray')"
   ]
  },
  {
   "cell_type": "code",
   "execution_count": 68,
   "metadata": {},
   "outputs": [
    {
     "data": {
      "image/png": "[encoded data removed]",
      "text/plain": [
       "<Figure size 1080x1080 with 1 Axes>"
      ]
     },
     "metadata": {
      "needs_background": "light"
     },
     "output_type": "display_data"
    }
   ],
   "source": [
    "img_bin_final=img_bin_h|img_bin_v\n",
    "plot(img_bin_final,'gray')\n"
   ]
  },
  {
   "cell_type": "code",
   "execution_count": 69,
   "metadata": {},
   "outputs": [
    {
     "data": {
      "image/png": "[encoded data removed]",
      "text/plain": [
       "<Figure size 1080x1080 with 1 Axes>"
      ]
     },
     "metadata": {
      "needs_background": "light"
     },
     "output_type": "display_data"
    }
   ],
   "source": [
    "final_kernel = np.ones((3,3), np.uint8)\n",
    "img_bin_final=cv2.dilate(img_bin_final,final_kernel,iterations=1)\n",
    "plot(img_bin_final,'gray')"
   ]
  },
  {
   "cell_type": "code",
   "execution_count": 70,
   "metadata": {},
   "outputs": [],
   "source": [
    "ret, labels, stats,centroids = cv2.connectedComponentsWithStats(~img_bin_final, connectivity=8, ltype=cv2.CV_32S)"
   ]
  },
  {
   "cell_type": "code",
   "execution_count": 71,
   "metadata": {},
   "outputs": [],
   "source": [
    "def imshow_components(labels):\n",
    "    ### creating a hsv image, with a unique hue value for each label\n",
    "    label_hue = np.uint8(179*labels/np.max(labels))\n",
    "    ### making saturation and volume to be 255\n",
    "    empty_channel = 255*np.ones_like(label_hue)\n",
    "    labeled_img = cv2.merge([label_hue, empty_channel, empty_channel])\n",
    "    ### converting the hsv image to BGR image\n",
    "    labeled_img = cv2.cvtColor(labeled_img, cv2.COLOR_HSV2BGR)\n",
    "    labeled_img[label_hue==0] = 0\n",
    "    ### returning the color image for visualising Connected Componenets\n",
    "    return labeled_img"
   ]
  },
  {
   "cell_type": "code",
   "execution_count": 72,
   "metadata": {},
   "outputs": [
    {
     "data": {
      "image/png": "[encoded data removed]",
      "text/plain": [
       "<Figure size 1080x1080 with 1 Axes>"
      ]
     },
     "metadata": {
      "needs_background": "light"
     },
     "output_type": "display_data"
    }
   ],
   "source": [
    "out_image=imshow_components(~labels)\n",
    "plot(out_image)"
   ]
  },
  {
   "cell_type": "code",
   "execution_count": 73,
   "metadata": {},
   "outputs": [
    {
     "data": {
      "image/png": "[encoded data removed]",
      "text/plain": [
       "<Figure size 1080x1080 with 1 Axes>"
      ]
     },
     "metadata": {
      "needs_background": "light"
     },
     "output_type": "display_data"
    }
   ],
   "source": [
    "for x,y,w,h,area in stats[2:]:\n",
    "#     cv2.putText(image,'box',(x-10,y-10),cv2.FONT_HERSHEY_SIMPLEX, 1.0,(0,255,0), 2)\n",
    "    cv2.rectangle(image,(x,y),(x+w,y+h),(0,255,0),2)\n",
    "plot(image)\n"
   ]
  },
  {
   "cell_type": "code",
   "execution_count": null,
   "metadata": {},
   "outputs": [],
   "source": []
  }
 ],
 "metadata": {
  "kernelspec": {
   "display_name": "Python 3",
   "language": "python",
   "name": "python3"
  },
  "language_info": {
   "codemirror_mode": {
    "name": "ipython",
    "version": 3
   },
   "file_extension": ".py",
   "mimetype": "text/x-python",
   "name": "python",
   "nbconvert_exporter": "python",
   "pygments_lexer": "ipython3",
   "version": "3.7.7"
  }
 },
 "nbformat": 4,
 "nbformat_minor": 4
}
