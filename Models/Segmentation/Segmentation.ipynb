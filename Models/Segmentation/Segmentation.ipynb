{
 "cells": [
  {
   "cell_type": "markdown",
   "metadata": {},
   "source": [
    "# Segment form into key and value pairs"
   ]
  },
  {
   "cell_type": "markdown",
   "metadata": {},
   "source": [
    "### Imports"
   ]
  },
  {
   "cell_type": "code",
   "execution_count": 5,
   "metadata": {},
   "outputs": [
    {
     "name": "stderr",
     "output_type": "stream",
     "text": [
      "C:\\Users\\Nikhil\\anaconda3\\envs\\ztdl\\lib\\site-packages\\skimage\\io\\manage_plugins.py:23: UserWarning: Your installed pillow version is < 7.1.0. Several security issues (CVE-2020-11538, CVE-2020-10379, CVE-2020-10994, CVE-2020-10177) have been fixed in pillow 7.1.0 or higher. We recommend to upgrade this library.\n",
      "  from .collection import imread_collection_wrapper\n"
     ]
    }
   ],
   "source": [
    "import os\n",
    "\n",
    "import cv2\n",
    "import numpy as np\n",
    "import pandas as pd\n",
    "\n",
    "from skimage import io\n",
    "\n",
    "from time import strftime\n",
    "\n",
    "from PIL import Image\n",
    "\n",
    "import matplotlib.pyplot as plt\n",
    "import seaborn as sns\n",
    "\n",
    "%matplotlib inline"
   ]
  },
  {
   "cell_type": "markdown",
   "metadata": {},
   "source": [
    "### constants"
   ]
  },
  {
   "cell_type": "code",
   "execution_count": 6,
   "metadata": {},
   "outputs": [],
   "source": [
    "employee_form_image=\"sample_data/Employee Feedback Form_1.jpg\"\n",
    "employee_form_image_2=\"sample_data/Employee Feedback Form_1.jpg\"\n",
    "teacher_form_image=\"sample_data/Teacher Feedback.jpg\""
   ]
  },
  {
   "cell_type": "markdown",
   "metadata": {},
   "source": [
    "# Function to divide form into rows and columns"
   ]
  },
  {
   "cell_type": "code",
   "execution_count": 7,
   "metadata": {},
   "outputs": [],
   "source": [
    "def divide_image_into_parts(image,dir_name,threshold_x, threshold_y,img_dir=False, trim=False, row=False,link=False,invert=False, draw=False):\n",
    "    if link:\n",
    "        image = io.imread(image)\n",
    "    else:\n",
    "        image = cv2.imread(image) if img_dir else image\n",
    "    \n",
    "    if trim:\n",
    "        # trim image to remove white spaces\n",
    "        temp_gray = cv2.cvtColor(image, cv2.COLOR_BGR2GRAY)\n",
    "        img_thr_temp = cv2.threshold(temp_gray, 0, 255, cv2.THRESH_BINARY + cv2.THRESH_OTSU)[1]\n",
    "        coords = cv2.findNonZero(img_thr_temp)\n",
    "        x, y, w, h = cv2.boundingRect(coords) \n",
    "        image = image[y:y+h, x:x+w]\n",
    "    \n",
    "    if row:\n",
    "        image = cv2.rotate(image, cv2.ROTATE_90_CLOCKWISE)\n",
    "    img = cv2.cvtColor(image, cv2.COLOR_RGB2BGR)\n",
    "    \n",
    "    cv2_thresh = cv2.THRESH_BINARY_INV if invert else cv2.THRESH_BINARY \n",
    "    \n",
    "    img_thr = cv2.threshold(cv2.cvtColor(img, cv2.COLOR_BGR2GRAY), 128, 255, cv2_thresh)[1]\n",
    "    \n",
    "    if draw:\n",
    "        plt.imshow(img_thr, interpolation='nearest')\n",
    "        plt.show()\n",
    "    \n",
    "    y_sum = np.count_nonzero(img_thr, axis=0)\n",
    "    x = np.arange(y_sum.shape[0])    \n",
    "    peaks = np.where(y_sum < threshold_y)[0] if invert else np.where(y_sum > threshold_y)[0]\n",
    "    \n",
    "    if draw:\n",
    "        d = {'x': x, 'y': y_sum}\n",
    "        df = pd.DataFrame(data=d)\n",
    "        sns.lineplot(data=df,x=\"x\",y=\"y\",palette=\"flare\")\n",
    "    \n",
    "    #prepending and appending to divide image froms srart to end\n",
    "    peaks = np.concatenate(([0],peaks))\n",
    "    peaks = np.concatenate((peaks,[(peaks[-1] + 1000)]))\n",
    "    \n",
    "    if draw:\n",
    "        print(\"First element: \", peaks[0])\n",
    "        print(\"Second element: \", peaks[1])\n",
    "        print(\"Second last element: \",peaks[-2])\n",
    "        print(\"last element: \",peaks[-1])\n",
    "\n",
    "    #clean the peaks\n",
    "    temp = np.diff(peaks).squeeze()\n",
    "    idx = np.where(temp > threshold_x)[0]\n",
    "    peaks = np.concatenate(([0], peaks[idx+1]), axis=0) + 1\n",
    "    \n",
    "    if draw:\n",
    "        print(\"First element: \", peaks[0])\n",
    "        print(\"Second element: \", peaks[1])\n",
    "        print(\"Second last element: \",peaks[-2])\n",
    "        print(\"last element: \",peaks[-1])\n",
    "    \n",
    "    try:\n",
    "        os.makedirs(dir_name)\n",
    "    except OSError as err:\n",
    "        print(err.strerror)\n",
    "    else:\n",
    "        print('Successfully created directory')\n",
    "        \n",
    "    total_img = 0\n",
    "    file_name = \"row_\" if row else \"column_\"\n",
    "    for i in np.arange(peaks.shape[0] -1):\n",
    "        image_slice = img[:, peaks[i]:peaks[i+1]]\n",
    "        if row:\n",
    "            final_image = cv2.rotate(image_slice, cv2.ROTATE_90_COUNTERCLOCKWISE)\n",
    "        else:\n",
    "            final_image = image_slice\n",
    "        cv2.imwrite(dir_name + '/' + file_name + str(i) + '.png', final_image)\n",
    "        total_img += 1\n",
    "    \n",
    "    print(\"Succesfully divided the image into\" , total_img, \"parts\")\n",
    "    \n",
    "    return (y_sum,peaks,total_img)"
   ]
  },
  {
   "cell_type": "markdown",
   "metadata": {},
   "source": [
    "### Testing the model"
   ]
  },
  {
   "cell_type": "code",
   "execution_count": 18,
   "metadata": {},
   "outputs": [
    {
     "data": {
      "image/png": "[encoded data removed]",
      "text/plain": [
       "<Figure size 432x288 with 1 Axes>"
      ]
     },
     "metadata": {
      "needs_background": "light"
     },
     "output_type": "display_data"
    },
    {
     "name": "stdout",
     "output_type": "stream",
     "text": [
      "First element:  0\n",
      "Second element:  0\n",
      "Second last element:  3299\n",
      "last element:  4299\n",
      "First element:  1\n",
      "Second element:  4300\n",
      "Second last element:  1\n",
      "last element:  4300\n",
      "Cannot create a file when that file already exists\n",
      "Succesfully divided the image into 1 parts\n"
     ]
    },
    {
     "data": {
      "image/png": "[encoded data removed]",
      "text/plain": [
       "<Figure size 432x288 with 1 Axes>"
      ]
     },
     "metadata": {
      "needs_background": "light"
     },
     "output_type": "display_data"
    }
   ],
   "source": [
    "(y_sum,peaks,total_columns) = divide_image_into_parts(image=employee_form_image,dir_name=\"employee_1/rows_division\",threshold_x=500,threshold_y=500,row=True, trim=True,\n",
    "                                                 img_dir=True,invert=False , link=False,draw=True)"
   ]
  },
  {
   "cell_type": "code",
   "execution_count": null,
   "metadata": {},
   "outputs": [],
   "source": []
  }
 ],
 "metadata": {
  "kernelspec": {
   "display_name": "Python 3",
   "language": "python",
   "name": "python3"
  },
  "language_info": {
   "codemirror_mode": {
    "name": "ipython",
    "version": 3
   },
   "file_extension": ".py",
   "mimetype": "text/x-python",
   "name": "python",
   "nbconvert_exporter": "python",
   "pygments_lexer": "ipython3",
   "version": "3.7.7"
  }
 },
 "nbformat": 4,
 "nbformat_minor": 4
}
